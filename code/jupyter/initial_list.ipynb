{
 "cells": [
  {
   "cell_type": "markdown",
   "id": "5992e0db-6e67-4221-88f7-7e390f9ac19e",
   "metadata": {
    "tags": []
   },
   "source": [
    "# Biobanks\n",
    "\n",
    "This jupyter notebook is intended for the purpose of obtaining a list of papers from the Microsoft Academic Graph (MAG) introducing a biobank.\n",
    "\n",
    "The final list is obtained in a three-step process, two of which are automatized and presented in this notebook.\n",
    "\n",
    "The first step is to obtain a subset of articles with a list of keyworkds. At the time you run this notebook this should be already done using the `keywords.py` script from the `python` folder.\n",
    "\n",
    "The second step is to process the articles to filter out articles not introducing biobanks. **This step is the purpose of this jupyter notebook**.\n",
    "\n",
    "The third and last step is a manual curation of the list to remove clinical trials and biobanks that are not human. To retrieve the last biobank table curated from the articles returned here run the `manual_table.py` script.\n",
    "\n",
    "## 1) List of keyworkds\n",
    "\n",
    "The following list is used to obtain the first set of articles and their biobanks. Note that the colon (:) is included in the searches of articles.\n",
    "\n",
    "- 'cohort', 'baseline', ':'\n",
    "- 'biobank', ':'\n",
    "- 'mega biobank', ':'\n",
    "- '^cohort profile:'\n",
    "- 'epidemiological', 'study', ':'\n",
    "- 'prospective', 'study', 'rationale', ':'\n",
    "- 'longitudinal', 'study', 'rationale', 'design', ':'\n",
    "\n",
    "## 2) Processing the data\n",
    "\n",
    "In order to process the obtained list, we filter some articles based on the following.\n",
    "\n",
    "### 1. Cohort, Baseline\n",
    "\n",
    "Consider:\n",
    "\n",
    "- design, rationale, characteristics, methods\n",
    "Avoid:\n",
    "- 'baseline study', 'baseline findings', 'baseline analysis'\n",
    "\n",
    "### 2. Health Study\n",
    "\n",
    "Consider:\n",
    "- Starts with the word \"The\"\n",
    "\n",
    "### 3. Biobank\n",
    "\n",
    "Consider\n",
    "- '^\\S+ biobank:''^\\S+ biobank:'\n",
    "- Starts with the word \"The\"\n",
    "\n",
    "### 4. Mega Biobank\n",
    "\n",
    "No further processing.\n",
    "\n",
    "### 5. Cohort Profile\n",
    "\n",
    "No further processing.\n",
    "\n",
    "### 6. Epidemiological study\n",
    "\n",
    "Consider\n",
    "- 'desgin', 'rationale', 'methods', 'characteristics', 'objectives', 'approach'\n",
    "- '^the \\S+ study:'\n",
    "- ': [Tt]he [A-Z]\\S+ [sS]tudy'\n",
    "\n",
    "\n",
    "### 7. Prospective\n",
    "\n",
    "Avoid:\n",
    "- 'trials'\n",
    "\n",
    "### 8. Longitudinal\n",
    "\n",
    "Avoid\n",
    "- 'trial', 'comparison', 'random', 'longitudinal study'"
   ]
  },
  {
   "cell_type": "code",
   "execution_count": 26,
   "id": "ce73e284-024b-4d5b-be6a-616ead8d3a30",
   "metadata": {},
   "outputs": [],
   "source": [
    "import sys\n",
    "sys.path.append('../python')\n",
    "\n",
    "from serendipity import *"
   ]
  },
  {
   "cell_type": "code",
   "execution_count": 1,
   "id": "431a0068-0b22-4b16-93a5-78970f73c439",
   "metadata": {},
   "outputs": [],
   "source": [
    "import pandas as pd"
   ]
  },
  {
   "cell_type": "code",
   "execution_count": 36,
   "id": "6051e812-680b-4f60-a701-6b4ad4142b08",
   "metadata": {},
   "outputs": [],
   "source": [
    "cohort = pd.read_csv('../../data/raw/initial.csv', low_memory=False)"
   ]
  },
  {
   "cell_type": "markdown",
   "id": "a41a2540-e9cc-4ea8-94d1-f6487c475b53",
   "metadata": {},
   "source": [
    "## Cohort Baseline"
   ]
  },
  {
   "cell_type": "code",
   "execution_count": 38,
   "id": "4fb1456b-441f-4b3a-9e02-10c0832b17bd",
   "metadata": {},
   "outputs": [],
   "source": [
    "cb = cohort[cohort['keyword']=='cohort']"
   ]
  },
  {
   "cell_type": "code",
   "execution_count": 39,
   "id": "e9b2200d-2620-41b7-a8c6-f4af726a722b",
   "metadata": {},
   "outputs": [],
   "source": [
    "def get_design(x):\n",
    "    title = x.lower()\n",
    "    avoid = ['baseline study', 'baseline findings',\n",
    "             'baseline analysis']\n",
    "    for word in avoid:\n",
    "        if word in title:\n",
    "            return False\n",
    "    words = ['desgin', 'rationale', 'methods', 'characteristics', 'objectives']\n",
    "    for word in words:\n",
    "        if word in title:\n",
    "            return True\n",
    "    return False"
   ]
  },
  {
   "cell_type": "code",
   "execution_count": 40,
   "id": "9196443a-bcb8-413c-99c4-fbb71156a88b",
   "metadata": {},
   "outputs": [],
   "source": [
    "cb = cb[cb['OriginalTitle'].apply(get_design)]"
   ]
  },
  {
   "cell_type": "markdown",
   "id": "60a82c3f-43a6-46b7-aa28-f370551288b6",
   "metadata": {},
   "source": [
    "## Health Study"
   ]
  },
  {
   "cell_type": "code",
   "execution_count": 41,
   "id": "7bc44e3a-6440-4062-bc00-811ff2632736",
   "metadata": {},
   "outputs": [],
   "source": [
    "hs = cohort[cohort['keyword']=='health_study']"
   ]
  },
  {
   "cell_type": "code",
   "execution_count": 42,
   "id": "5869232b-6012-46b6-bdb0-5f7f85869518",
   "metadata": {},
   "outputs": [],
   "source": [
    "def filter_hs(x):\n",
    "    title = x.lower()\n",
    "    words = ['desgin', 'rationale', 'methods', 'characteristics', 'objectives']\n",
    "    for word in words:\n",
    "        if word in title:\n",
    "            return True\n",
    "    return False"
   ]
  },
  {
   "cell_type": "code",
   "execution_count": 43,
   "id": "dbf03bc6-3dda-4c5c-a789-0aa1e980a06a",
   "metadata": {},
   "outputs": [],
   "source": [
    "ths = hs[hs['PaperTitle'].str.startswith('the ')]"
   ]
  },
  {
   "cell_type": "markdown",
   "id": "aca0785b-1eec-4b13-b642-e85712bb8544",
   "metadata": {},
   "source": [
    "## Biobank and Mega Biobank"
   ]
  },
  {
   "cell_type": "code",
   "execution_count": 44,
   "id": "c9754786-070f-48ed-8fb4-4f2965d29cbd",
   "metadata": {},
   "outputs": [],
   "source": [
    "bb = cohort[cohort['keyword']=='biobank']"
   ]
  },
  {
   "cell_type": "code",
   "execution_count": 45,
   "id": "82b6ccf3-fd5b-43f2-bfa2-141f726e9dbd",
   "metadata": {},
   "outputs": [],
   "source": [
    "mbb = cohort[cohort['keyword']=='mega_biobank']"
   ]
  },
  {
   "cell_type": "code",
   "execution_count": 46,
   "id": "d3f182ae-1f45-47b1-8a61-47689072a5e8",
   "metadata": {},
   "outputs": [],
   "source": [
    "bb1 = bb[bb['OriginalTitle'].str.contains(r'^\\S+ biobank:', case=False)]\n",
    "bb2 = bb[bb['PaperTitle'].str.startswith('the ')]"
   ]
  },
  {
   "cell_type": "code",
   "execution_count": 47,
   "id": "8e4d9b19-fad0-4ee8-8575-ffcb3ae0bcce",
   "metadata": {},
   "outputs": [],
   "source": [
    "bb = pd.concat([bb1, bb2, mbb])"
   ]
  },
  {
   "cell_type": "markdown",
   "id": "735bdfa3-a159-4b02-a551-ec47178030a0",
   "metadata": {},
   "source": [
    "## Cohort Profiles\n",
    "\n",
    "Nothing to do here."
   ]
  },
  {
   "cell_type": "code",
   "execution_count": 48,
   "id": "3b694751-5d26-4ba2-a112-54788f82790b",
   "metadata": {},
   "outputs": [],
   "source": [
    "cp = cohort[cohort['keyword']=='cohort_profile']"
   ]
  },
  {
   "cell_type": "markdown",
   "id": "8e20276f-33cc-486a-a147-b209ad5b8b59",
   "metadata": {},
   "source": [
    "## Epidemiological study"
   ]
  },
  {
   "cell_type": "code",
   "execution_count": 49,
   "id": "64b9ef47-b9e7-4832-b908-9d211efcb076",
   "metadata": {},
   "outputs": [],
   "source": [
    "ep = cohort[cohort['keyword']=='epidemiological_study']"
   ]
  },
  {
   "cell_type": "code",
   "execution_count": 50,
   "id": "3f57e139-3396-417d-be06-f81b83d010fa",
   "metadata": {},
   "outputs": [],
   "source": [
    "ep1 = ep[ep['OriginalTitle'].str.contains(r'^the \\S+ study:', case=False)]\n",
    "ep2 = ep[ep['OriginalTitle'].str.contains(r': [Tt]he [A-Z]\\S+ [sS]tudy')]"
   ]
  },
  {
   "cell_type": "code",
   "execution_count": 51,
   "id": "68bcddc5-1bbf-4c9e-b2bf-eb4108822f16",
   "metadata": {},
   "outputs": [],
   "source": [
    "ep = pd.concat([ep1, ep2])"
   ]
  },
  {
   "cell_type": "markdown",
   "id": "a65414ee-4f89-4164-8085-9b1db0da5438",
   "metadata": {},
   "source": [
    "## Prospective Study"
   ]
  },
  {
   "cell_type": "code",
   "execution_count": 52,
   "id": "f38945b8-9452-4857-a5ac-9bc883a5e307",
   "metadata": {},
   "outputs": [],
   "source": [
    "pros = cohort[cohort['keyword']=='prospective']"
   ]
  },
  {
   "cell_type": "code",
   "execution_count": 53,
   "id": "ff21338a-3243-442c-8515-62d3caae2243",
   "metadata": {},
   "outputs": [],
   "source": [
    "pros = pros[~pros['PaperTitle'].str.contains('trial')]"
   ]
  },
  {
   "cell_type": "markdown",
   "id": "20c7dd51-9ceb-4a47-9b7b-fb7f555b49bf",
   "metadata": {},
   "source": [
    "## Longitudinal"
   ]
  },
  {
   "cell_type": "code",
   "execution_count": 54,
   "id": "ea42c794-6948-4704-8ba7-c0726f6c89fa",
   "metadata": {},
   "outputs": [],
   "source": [
    "long = cohort[cohort['keyword']=='longitudinal']"
   ]
  },
  {
   "cell_type": "code",
   "execution_count": 55,
   "id": "ad718038-94b0-451c-aaed-a21b0f9f6cc5",
   "metadata": {},
   "outputs": [],
   "source": [
    "long = long[~long['PaperTitle'].str.contains('trial')]\n",
    "\n",
    "long = long[~long['PaperTitle'].str.contains('comparison')]\n",
    "\n",
    "long = long[~long['PaperTitle'].str.contains('random')]\n",
    "\n",
    "long = long[~long['PaperTitle'].str.contains('longitudinal study')]"
   ]
  },
  {
   "cell_type": "markdown",
   "id": "c687981d-8927-4d1e-ac86-720fd0388785",
   "metadata": {},
   "source": [
    "## All together"
   ]
  },
  {
   "cell_type": "code",
   "execution_count": 56,
   "id": "7e9e8bdc-f8fb-4d3d-9ee2-7d5887196750",
   "metadata": {},
   "outputs": [],
   "source": [
    "cohort = pd.concat([bb, ths, cb, cp, ep, pros, long])"
   ]
  },
  {
   "cell_type": "code",
   "execution_count": 61,
   "id": "df00d85c-5c8d-441e-b0ef-f2f31619bcce",
   "metadata": {},
   "outputs": [],
   "source": [
    "cohort = cohort.drop_duplicates(subset='PaperId')"
   ]
  },
  {
   "cell_type": "code",
   "execution_count": null,
   "id": "88dd4d71-f97a-4dd4-ac1f-59ae38033b6c",
   "metadata": {},
   "outputs": [],
   "source": [
    "cohort.to_csv('../../data/out/step2.csv', index=False)"
   ]
  }
 ],
 "metadata": {
  "kernelspec": {
   "display_name": "Python 3 (ipykernel)",
   "language": "python",
   "name": "python3"
  },
  "language_info": {
   "codemirror_mode": {
    "name": "ipython",
    "version": 3
   },
   "file_extension": ".py",
   "mimetype": "text/x-python",
   "name": "python",
   "nbconvert_exporter": "python",
   "pygments_lexer": "ipython3",
   "version": "3.9.7"
  }
 },
 "nbformat": 4,
 "nbformat_minor": 5
}
